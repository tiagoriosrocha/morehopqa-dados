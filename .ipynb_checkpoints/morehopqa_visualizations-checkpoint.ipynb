{
 "cells": [
  {
   "cell_type": "markdown",
   "id": "3110b14c",
   "metadata": {},
   "source": [
    "\n",
    "# 📊 Visualizações do Dataset **alab-NII/morehopqa**\n",
    "\n",
    "Este notebook carrega o dataset **MoreHopQA** do Hugging Face e gera 5 visualizações exploratórias usando **Altair**.\n"
   ]
  },
  {
   "cell_type": "code",
   "execution_count": null,
   "id": "d1f42463",
   "metadata": {},
   "outputs": [],
   "source": [
    "\n",
    "# Instalar dependências necessárias\n",
    "!pip install datasets pandas altair vega_datasets --quiet\n"
   ]
  },
  {
   "cell_type": "code",
   "execution_count": null,
   "id": "fa4933d9",
   "metadata": {},
   "outputs": [],
   "source": [
    "\n",
    "# ------------------------------\n",
    "# 1. Imports\n",
    "# ------------------------------\n",
    "import altair as alt\n",
    "import pandas as pd\n",
    "from datasets import load_dataset\n"
   ]
  },
  {
   "cell_type": "code",
   "execution_count": null,
   "id": "d52a0bd1",
   "metadata": {},
   "outputs": [],
   "source": [
    "\n",
    "# ------------------------------\n",
    "# 2. Carregar dataset\n",
    "# ------------------------------\n",
    "\n",
    "# Carregar o split de treino\n",
    "dataset = load_dataset(\"alab-NII/morehopqa\", split=\"train\")\n",
    "\n",
    "# Converter para pandas DataFrame\n",
    "df = dataset.to_pandas()\n",
    "\n",
    "# Mostrar amostras\n",
    "df.head()\n"
   ]
  },
  {
   "cell_type": "code",
   "execution_count": null,
   "id": "381f7102",
   "metadata": {},
   "outputs": [],
   "source": [
    "\n",
    "# ------------------------------\n",
    "# 3. Pré-processamento\n",
    "# ------------------------------\n",
    "\n",
    "# Calcular tamanho da decomposição\n",
    "df[\"decomp_len\"] = df[\"question_decomposition\"].apply(lambda x: len(x) if isinstance(x, list) else 0)\n",
    "\n",
    "# Função para extrair títulos de parágrafos de suporte\n",
    "def extract_paragraphs(decomposition):\n",
    "    if isinstance(decomposition, list):\n",
    "        return [d.get(\"paragraph_support_title\", None) for d in decomposition if d.get(\"paragraph_support_title\")]\n",
    "    return []\n",
    "\n",
    "# Criar coluna com parágrafos\n",
    "df[\"paragraphs\"] = df[\"question_decomposition\"].apply(extract_paragraphs)\n",
    "\n",
    "# Explodir parágrafos para contar frequência\n",
    "support_counts = (\n",
    "    df.explode(\"paragraphs\")\n",
    "    .dropna(subset=[\"paragraphs\"])\n",
    "    .groupby(\"paragraphs\")\n",
    "    .size()\n",
    "    .reset_index(name=\"count\")\n",
    ")\n",
    "\n",
    "support_counts.head()\n"
   ]
  },
  {
   "cell_type": "code",
   "execution_count": null,
   "id": "5b974b40",
   "metadata": {},
   "outputs": [],
   "source": [
    "\n",
    "# ------------------------------\n",
    "# 4.1 Distribuição de tipos de raciocínio\n",
    "# ------------------------------\n",
    "\n",
    "chart_reasoning = alt.Chart(df).mark_bar().encode(\n",
    "    x=alt.X('reasoning_type:N', title='Tipo de raciocínio'),\n",
    "    y=alt.Y('count()', title='Número de exemplos'),\n",
    "    color='reasoning_type:N'\n",
    ").properties(title='Distribuição de tipos de raciocínio')\n",
    "\n",
    "chart_reasoning\n"
   ]
  },
  {
   "cell_type": "code",
   "execution_count": null,
   "id": "da5195bd",
   "metadata": {},
   "outputs": [],
   "source": [
    "\n",
    "# ------------------------------\n",
    "# 4.2 Número de hops\n",
    "# ------------------------------\n",
    "\n",
    "chart_hops = alt.Chart(df).mark_bar().encode(\n",
    "    x=alt.X('no_of_hops:O', title='Número de hops'),\n",
    "    y='count()',\n",
    "    color='no_of_hops:O'\n",
    ").properties(title='Distribuição do número de hops')\n",
    "\n",
    "chart_hops\n"
   ]
  },
  {
   "cell_type": "code",
   "execution_count": null,
   "id": "b26516ce",
   "metadata": {},
   "outputs": [],
   "source": [
    "\n",
    "# ------------------------------\n",
    "# 4.3 Tipos de resposta vs anterior\n",
    "# ------------------------------\n",
    "\n",
    "chart_answer_types = alt.Chart(df).mark_bar().encode(\n",
    "    x=alt.X('answer_type:N', title='Tipo de resposta (atual)'),\n",
    "    y='count()',\n",
    "    color='previous_answer_type:N',\n",
    "    tooltip=['answer_type', 'previous_answer_type']\n",
    ").properties(title='Comparação entre tipos de resposta')\n",
    "\n",
    "chart_answer_types\n"
   ]
  },
  {
   "cell_type": "code",
   "execution_count": null,
   "id": "5a2c0053",
   "metadata": {},
   "outputs": [],
   "source": [
    "\n",
    "# ------------------------------\n",
    "# 4.4 Comprimento da decomposição\n",
    "# ------------------------------\n",
    "\n",
    "chart_decomp = alt.Chart(df).mark_boxplot().encode(\n",
    "    y=alt.Y('decomp_len:Q', title='Comprimento da decomposição de perguntas')\n",
    ").properties(title='Distribuição do comprimento da decomposição')\n",
    "\n",
    "chart_decomp\n"
   ]
  },
  {
   "cell_type": "code",
   "execution_count": null,
   "id": "1bac57e8",
   "metadata": {},
   "outputs": [],
   "source": [
    "\n",
    "# ------------------------------\n",
    "# 4.5 Parágrafos de suporte mais usados\n",
    "# ------------------------------\n",
    "\n",
    "chart_support = alt.Chart(support_counts).mark_circle().encode(\n",
    "    x=alt.X('paragraphs:N', title='Parágrafo de suporte'),\n",
    "    y=alt.Y('count:Q', title='Frequência'),\n",
    "    size='count:Q',\n",
    "    tooltip=['paragraphs', 'count']\n",
    ").properties(title='Parágrafos mais usados como suporte').interactive()\n",
    "\n",
    "chart_support\n"
   ]
  },
  {
   "cell_type": "markdown",
   "id": "d041b5fa",
   "metadata": {},
   "source": [
    "\n",
    "---\n",
    "\n",
    "✅ Agora você tem 5 visualizações principais do dataset **MoreHopQA**:  \n",
    "1. Distribuição de tipos de raciocínio  \n",
    "2. Número de hops por questão  \n",
    "3. Tipos de resposta (atual vs anterior)  \n",
    "4. Comprimento da decomposição de perguntas  \n",
    "5. Parágrafos mais usados como suporte  \n",
    "\n"
   ]
  }
 ],
 "metadata": {},
 "nbformat": 4,
 "nbformat_minor": 5
}
